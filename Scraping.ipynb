{
 "cells": [
  {
   "cell_type": "code",
   "execution_count": 26,
   "id": "88078dc4-7edd-4289-a881-c2e408c34ce3",
   "metadata": {},
   "outputs": [
    {
     "name": "stdout",
     "output_type": "stream",
     "text": [
      "[<selenium.webdriver.remote.webelement.WebElement (session=\"f448e1f568a333450e876610ef2cf368\", element=\"f.7A8AA18A93FF40DCCE2F3C4DB304C99A.d.858B7AC94B04A2DBDCE9FD7EE144F578.e.136\")>, <selenium.webdriver.remote.webelement.WebElement (session=\"f448e1f568a333450e876610ef2cf368\", element=\"f.7A8AA18A93FF40DCCE2F3C4DB304C99A.d.858B7AC94B04A2DBDCE9FD7EE144F578.e.137\")>, <selenium.webdriver.remote.webelement.WebElement (session=\"f448e1f568a333450e876610ef2cf368\", element=\"f.7A8AA18A93FF40DCCE2F3C4DB304C99A.d.858B7AC94B04A2DBDCE9FD7EE144F578.e.138\")>, <selenium.webdriver.remote.webelement.WebElement (session=\"f448e1f568a333450e876610ef2cf368\", element=\"f.7A8AA18A93FF40DCCE2F3C4DB304C99A.d.858B7AC94B04A2DBDCE9FD7EE144F578.e.139\")>, <selenium.webdriver.remote.webelement.WebElement (session=\"f448e1f568a333450e876610ef2cf368\", element=\"f.7A8AA18A93FF40DCCE2F3C4DB304C99A.d.858B7AC94B04A2DBDCE9FD7EE144F578.e.140\")>, <selenium.webdriver.remote.webelement.WebElement (session=\"f448e1f568a333450e876610ef2cf368\", element=\"f.7A8AA18A93FF40DCCE2F3C4DB304C99A.d.858B7AC94B04A2DBDCE9FD7EE144F578.e.141\")>, <selenium.webdriver.remote.webelement.WebElement (session=\"f448e1f568a333450e876610ef2cf368\", element=\"f.7A8AA18A93FF40DCCE2F3C4DB304C99A.d.858B7AC94B04A2DBDCE9FD7EE144F578.e.142\")>]\n",
      "No next button found. Stopping.\n"
     ]
    }
   ],
   "source": [
    "from selenium import webdriver\n",
    "from selenium.webdriver.chrome.options import Options\n",
    "from selenium.webdriver.common.by import By\n",
    "from selenium.webdriver.support.ui import WebDriverWait\n",
    "from selenium.webdriver.common.action_chains import ActionChains\n",
    "from selenium.webdriver.support import expected_conditions as EC\n",
    "from selenium.common.exceptions import NoSuchElementException, TimeoutException, ElementClickInterceptedException\n",
    "import time\n",
    "import re\n",
    "total_review= []\n",
    "visited_urls = set()\n",
    "url_pattern = r\"https?:\\/\\/.*?\\.html|\\/\\/.*?\\.html\"\n",
    "options = Options()\n",
    "options.add_argument(\"--no-sandbox\") \n",
    "options.add_argument(\"--disable-dev-shm-usage\")\n",
    "options.add_argument(\"--disable-blink-features=AutomationControlled\")\n",
    "options.add_argument(\"--user-agent=Mozilla/5.0 (Windows NT 10.0; Win64; x64) AppleWebKit/537.36 (KHTML, like Gecko) Chrome/120.0.0.0 Safari/537.36\")\n",
    "\n",
    "driver = webdriver.Chrome(options=options)\n",
    "driver.execute_script(\"Object.defineProperty(navigator, 'webdriver', {get: () => undefined})\")\n",
    "\n",
    "url = \"https://www.daraz.com.np/products/apple-iphone-16-pro-max-69-inch-super-retina-xdr-oled-display-a18-chip-pro-camera-system-i164897694-s1181305969.html\"\n",
    "visited_urls.add(url)\n",
    "# Load page twice (key part that works)\n",
    "driver.get(url)\n",
    "wait = WebDriverWait(driver, 3)\n",
    "wait.until(lambda d: d.execute_script(\"return document.readyState\") == \"complete\")\n",
    "\n",
    "driver.get(url)  # Second load triggers content\n",
    "wait.until(lambda d: d.execute_script(\"return document.readyState\") == \"complete\")\n",
    "driver.maximize_window()\n",
    "# User interaction\n",
    "actions = ActionChains(driver)\n",
    "actions.move_by_offset(100, 100).perform()\n",
    "driver.execute_script(\"\"\"window.scrollTo({top: 1300,behavior: 'smooth'});\"\"\")\n",
    "\n",
    "time.sleep(1)\n",
    "total_review.append(get_review(driver))\n",
    "driver.execute_script(\"window.scrollTo({top: document.body.scrollHeight - 300, behavior: 'smooth'});\")\n",
    "for i in range(0):\n",
    "    try:\n",
    "        for i in range(3):\n",
    "            driver.execute_script(f\"window.scrollTo({{top: {1000 + i*800}, behavior: 'smooth'}});\")\n",
    "            time.sleep(2)  # Wait for lazy loading\n",
    "        next_item_mark =  driver.find_element(By.CSS_SELECTOR, 'a[data-spm-anchor-id=\"a2a0e.pdp_revamp.recommendation_2.1\"]')\n",
    "        driver.execute_script(\"\"\"arguments[0].scrollIntoView({ behavior: 'smooth', block: 'center' });\"\"\", next_item_mark)\n",
    "        driver.execute_script(\"\"\" window.scrollBy({top: 800,behavior: 'smooth'});\"\"\")\n",
    "        for j in range(4):\n",
    "            next_item= driver.find_element(By.CSS_SELECTOR, f'a[data-spm-anchor-id=\"a2a0e.pdp_revamp.recommendation_2.{j+1}\"]')\n",
    "            match = re.search(url_pattern, next_item.get_attribute(\"href\"))\n",
    "            if match:\n",
    "                clean_href = \"https:\" + match.group() if match.group().startswith(\"//\") else match.group()\n",
    "                if clean_href not in visited_urls:\n",
    "                    visited_urls.add(clean_href)\n",
    "                    next_item.click()\n",
    "                    wait.until(lambda d: d.execute_script(\"return document.readyState\") == \"complete\")\n",
    "                    actions.move_by_offset(100, 100).perform()\n",
    "                    driver.execute_script(\"\"\"window.scrollTo({top: 3300,behavior: 'smooth'});\"\"\")\n",
    "                    total_review.append(get_review(driver))\n",
    "                    break\n",
    "            else:\n",
    "                print(\"No match found.\")\n",
    "    except Exception as e:\n",
    "        print(e)\n",
    "driver.quit()"
   ]
  },
  {
   "cell_type": "code",
   "execution_count": 22,
   "id": "4046f229-3ac7-4520-802f-618d4a1ed399",
   "metadata": {},
   "outputs": [],
   "source": [
    "def get_review(driver):\n",
    "    review_list=[]\n",
    "    try:\n",
    "        review = driver.find_elements(By.CSS_SELECTOR, \"div.content\")\n",
    "        print(review)\n",
    "        for index, item in enumerate(review):\n",
    "            if index % 2 == 1:\n",
    "                review_list.append(item.text)\n",
    "            \n",
    "    except Exception as e:\n",
    "        print(f\"Error finding value{e}\")\n",
    "    #finding items review    \n",
    "    while True:\n",
    "        try:\n",
    "            time.sleep(4)\n",
    "            WebDriverWait(driver, 5).until(\n",
    "                EC.presence_of_all_elements_located((By.CSS_SELECTOR, \"div.content\")))\n",
    "            review_section = driver.find_element(By.CSS_SELECTOR,\"div.pdp-mod-review[data-spm='ratings_reviews']\")\n",
    "            next_button = driver.find_element(By.CSS_SELECTOR, \".next-btn.next-btn-normal.next-btn-medium.next-pagination-item.next\")\n",
    "            is_inside = driver.execute_script(\"\"\"return arguments[1].contains(arguments[0]);\"\"\", next_button, review_section)\n",
    "            #Checking if the next button is either disabled or not of the review section\n",
    "            if next_button.get_attribute(\"disabled\") or not is_inside:\n",
    "                raise NoSuchElementException(\"Next button is disabled.\")\n",
    "            \n",
    "            \n",
    "                    \n",
    "            driver.execute_script(\"\"\"arguments[0].scrollIntoView({ behavior: 'smooth', block: 'center' });\"\"\", next_button)\n",
    "            driver.execute_script(\"\"\" window.scrollBy({top: +800,behavior: 'smooth'});\"\"\")\n",
    "            \n",
    "            #clicks if safe \n",
    "            if not safe_click(driver, next_button):\n",
    "                print(\"Failed to click after all attempts\")\n",
    "                continue\n",
    "            time.sleep(2)\n",
    "\n",
    "            review = driver.find_elements(By.CSS_SELECTOR, \"div.content\")\n",
    "            for index, item in enumerate(review):\n",
    "                if index % 2 == 1:\n",
    "                    review_list.append(item.text)\n",
    "                \n",
    "        except NoSuchElementException:\n",
    "            print(\"No next button found. Stopping.\")\n",
    "            break\n",
    "    return review_list"
   ]
  },
  {
   "cell_type": "code",
   "execution_count": 23,
   "id": "48fe4c40-1dda-4999-8032-8c1d215e5fa5",
   "metadata": {},
   "outputs": [],
   "source": [
    "def safe_click(driver, element, max_attempts=3):\n",
    "    \"\"\"Safely click an element with multiple fallback strategies\"\"\"\n",
    "    for attempt in range(max_attempts):\n",
    "        try:\n",
    "            element.click()\n",
    "            return True\n",
    "        except ElementClickInterceptedException:\n",
    "            print(f\"Click intercepted, attempt {attempt + 1}\")\n",
    "            \n",
    "            if attempt == 0:\n",
    "                # First attempt: scroll element into better view\n",
    "                driver.execute_script(\"arguments[0].scrollIntoView({behavior: 'smooth', block: 'center'});\", element)\n",
    "                time.sleep(1)\n",
    "            elif attempt == 1:\n",
    "                # Second attempt: scroll a bit more\n",
    "                driver.execute_script(\"window.scrollBy({top: -200, behavior: 'smooth'});\")\n",
    "                time.sleep(1)\n",
    "            else:\n",
    "                # Final attempt: JavaScript click as last resort\n",
    "                driver.execute_script(\"arguments[0].click();\", element)\n",
    "                return True\n",
    "                \n",
    "    return False"
   ]
  },
  {
   "cell_type": "code",
   "execution_count": null,
   "id": "1ea7419a-4703-461c-af3b-58b837615100",
   "metadata": {},
   "outputs": [],
   "source": []
  },
  {
   "cell_type": "code",
   "execution_count": 7,
   "id": "c4c4d890-1e69-4b60-a99d-350ca3161cf2",
   "metadata": {},
   "outputs": [
    {
     "data": {
      "text/plain": [
       "{'https://www.daraz.com.np/products/asus-zenbook-14-oled-intel-evo-ultra-5-125h-built-in-ai-8gb-ddr5-ram-512gb-nvme-gen-4-ssd-intel-arc-graphics-14-wuxga-oled-touch-display-backlit-keyboard-i146148668-s1095972230.html',\n",
       " 'https://www.daraz.com.np/products/lenovo-ideapad-slim-3-intel-core-i5-13th-gen-13420h-16gb-ddr5-ram-512gb-nvme-ssd-intel-integrated-graphics-156-fhd-display-arctic-grey-i128471375-s1035960584.html',\n",
       " 'https://www.daraz.com.np/products/lenovo-ideapad-slim-3-intel-i7-13th-gen-13620h-16gb-ddr5-ram-512gb-nvme-ssd-intel-uhd-integrated-graphics-156-fhd-display-arctic-grey-i164153640-s1174437054.html'}"
      ]
     },
     "execution_count": 7,
     "metadata": {},
     "output_type": "execute_result"
    }
   ],
   "source": [
    "visited_urls"
   ]
  },
  {
   "cell_type": "code",
   "execution_count": 28,
   "id": "b8fe3e62-9495-4e64-9b55-62f39f63530b",
   "metadata": {},
   "outputs": [
    {
     "data": {
      "text/plain": [
       "5"
      ]
     },
     "execution_count": 28,
     "metadata": {},
     "output_type": "execute_result"
    }
   ],
   "source": [
    "len(total_review[2])"
   ]
  },
  {
   "cell_type": "code",
   "execution_count": 27,
   "id": "7112fd75-ea9e-4676-aa30-91809d906b02",
   "metadata": {},
   "outputs": [
    {
     "data": {
      "text/plain": [
       "[['Got my phone same day of the order(ordered midnight) genuine phone, genuine seller 👍 definitely go for it!!!',\n",
       "  'Very best product at best price',\n",
       "  'dami xa']]"
      ]
     },
     "execution_count": 27,
     "metadata": {},
     "output_type": "execute_result"
    }
   ],
   "source": [
    "total_review"
   ]
  },
  {
   "cell_type": "code",
   "execution_count": 17,
   "id": "bb62cbdc-d790-4bee-b9bc-08692662f091",
   "metadata": {},
   "outputs": [
    {
     "data": {
      "text/plain": [
       "5"
      ]
     },
     "execution_count": 17,
     "metadata": {},
     "output_type": "execute_result"
    }
   ],
   "source": [
    "len(total_review[1])"
   ]
  },
  {
   "cell_type": "code",
   "execution_count": null,
   "id": "a6957e92-dce3-4e01-8c02-8774e54dbe7e",
   "metadata": {},
   "outputs": [],
   "source": [
    "<div class=\"content\" data-spm-anchor-id=\"a2a0e.pdp_revamp.ratings_reviews.i0.276a20f0jHf5El\">\n",
    "<div class=\"content\" data-spm-anchor-id=\"a2a0e.pdp_revamp.ratings_reviews.i1.276a20f0jHf5El\">\n",
    "<div class=\"content\" data-spm-anchor-id=\"a2a0e.pdp_revamp.ratings_reviews.i4.276a20f0jHf5El\">\n",
    "<div class=\"content\" data-spm-anchor-id=\"a2a0e.pdp_revamp.ratings_reviews.i6.276a20f0jHf5El\">I love the products quality is so good</div>\n",
    "<div class=\"content\" data-spm-anchor-id=\"a2a0e.pdp_revamp.ratings_reviews.i2.4f864ed9H59zMz\">suruko 1 months jati ramrai chalyo tespaxi ghari right side matra sound aaune ghari left side matra sound aaune hunxa. Durable chai na raixa. </div>\n",
    "a2a0e.pdp_revamp.ratings_reviews.i0.4f864ed9H59zMz"
   ]
  },
  {
   "cell_type": "code",
   "execution_count": null,
   "id": "e7b1ac17-eabb-4c52-91ab-9f6509ac06ab",
   "metadata": {},
   "outputs": [],
   "source": []
  },
  {
   "cell_type": "code",
   "execution_count": 36,
   "id": "b1db57d1-4a6a-45bc-add9-5663bce5e4e9",
   "metadata": {},
   "outputs": [
    {
     "name": "stdout",
     "output_type": "stream",
     "text": [
      "//www.daraz.com.np/products/fantech-hq53-lightweight-gaming-headset-lightweight-design-with-red-accent-lighting-i118894138-s1032560386.html\n"
     ]
    }
   ],
   "source": [
    "import re\n",
    "href=\"//www.daraz.com.np/products/fantech-hq53-lightweight-gaming-headset-lightweight-design-with-red-accent-lighting-i118894138-s1032560386.html?&amp;search=pdp_v2v?mp=1&amp;scm=1007.38553.419544.0&amp;clickTrackInfo=8b44c717-2cc2-499e-abb9-02d8efc46d58__118894138__10002907__hero_item_i2i__419526__0.0__0.04698380082845688__0.0__0.0__0.0__0.0__0____128117636__128117636__0.0________2799.0__0.28581636298678104__4.265129682997118__347__1999.0__1969400,1967665,1970357,1244135,1985972,1987155,1981175,1960436,1196930,1960437,1683891,338926,338928,1978238,1972330,534814,808110,1797945,1797946,153780,1243932,1213024,1975634,294830,390289,1955329,332334,759053,680013,1952971,12005,1957386,806100,1176891,1364821,176376,323495,1963322,1379425,1965068,1960492,1467971,339834,1960457,1955255,210928,1988626,1684884,1790813,1199863,1957393,1970373,1789909,1967672,295703,350723,1835137,1835138,1979419,537206,1967711,1971578,1960483,1965138,1988555,1519067,1838122,1242700,1985569,1957368,1960569,1149832,470812,1955348,1960522,1682899,1977794,515824____________32104____0.0__0.0__0.0__0.0____0.0____0.0__0.0__0.0____________0.0\" \n",
    "pattern = r\"https?:\\/\\/.*?\\.html|\\/\\/.*?\\.html\"\n",
    "a = re.match(pattern,href)\n",
    "print(a.group())"
   ]
  },
  {
   "cell_type": "code",
   "execution_count": 39,
   "id": "baea3481-07c2-46e7-a8f1-96a0049d2fe9",
   "metadata": {},
   "outputs": [
    {
     "data": {
      "text/plain": [
       "[['a']]"
      ]
     },
     "execution_count": 39,
     "metadata": {},
     "output_type": "execute_result"
    }
   ],
   "source": [
    "a"
   ]
  },
  {
   "cell_type": "code",
   "execution_count": null,
   "id": "a82734fb-b583-4187-9505-9c3d5efe1e97",
   "metadata": {},
   "outputs": [],
   "source": [
    "a2a0e.pdp_revamp.recommendation_2.1"
   ]
  }
 ],
 "metadata": {
  "kernelspec": {
   "display_name": "Python 3 (ipykernel)",
   "language": "python",
   "name": "python3"
  },
  "language_info": {
   "codemirror_mode": {
    "name": "ipython",
    "version": 3
   },
   "file_extension": ".py",
   "mimetype": "text/x-python",
   "name": "python",
   "nbconvert_exporter": "python",
   "pygments_lexer": "ipython3",
   "version": "3.13.0"
  }
 },
 "nbformat": 4,
 "nbformat_minor": 5
}
